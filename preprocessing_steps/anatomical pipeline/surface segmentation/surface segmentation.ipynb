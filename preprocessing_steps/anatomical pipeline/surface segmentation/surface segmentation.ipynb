{
 "cells": [
  {
   "cell_type": "markdown",
   "metadata": {},
   "source": [
    "## Surface Segmentation"
   ]
  },
  {
   "cell_type": "markdown",
   "metadata": {},
   "source": [
    "The script runs the recon-all command from Freesurfer.Surface parcellation with FreeSurfer. \n",
    "\n",
    "The input directory: {MAIN_PATH}/derivatives/denoised/sub-02/ses-01/sub-02_ses-01_acq-MPRAGE_T1w.nii.gz\n",
    "\n",
    "The output directory: {MAIN_PATH}/derivatives/freesurfer/sub-02. "
   ]
  },
  {
   "cell_type": "code",
   "execution_count": null,
   "metadata": {},
   "outputs": [],
   "source": [
    "# Run the anatomical denoising on subject number 02 and session 02\n",
    "\n",
    "master -m 14 -s 02 -n 01"
   ]
  },
  {
   "cell_type": "markdown",
   "metadata": {},
   "source": [
    "In case it is available a T2 weighted image, we need to be sure that:\n",
    "1) It is accurately coregistered with the T1 weighted image.\n",
    "2) It is present in the appropriate directory so that the code can you it to improve the segmentation accuracy."
   ]
  },
  {
   "cell_type": "code",
   "execution_count": null,
   "metadata": {},
   "outputs": [],
   "source": [
    "# For Step 1 and Step 2\n",
    "\n",
    "# Coregister the anatomical T1 to the T2 following these steps: \n",
    "1) Download the T1 from this directory: {MAIN_PATH}/derivatives/denoised/sub-02/ses-01/sub-02_ses-01_acq-MPRAGE_T1w.nii.gz\n",
    "2) Download the T2 from this directory: {MAIN_PATH}/derivatives/denoised/sub-02/ses-02/sub-02_ses-02_acq-spacecorp2iso_run-1_T2w.json (e.i.)\n",
    "3) Coregister the T2 on the T1 following the coregistration instructions present in this directory: https://github.com/FedericaCardillo1999/EGRET3APreproc/tree/main/tutorials/coregistration.pdf\n",
    "4) Upload the init_coreg.txt in this directory: {MAIN_PATH}/sub-02/ses-02/anat\n",
    "# Apply the transformation to the T2 to ensure it is are accurately coregistered with the T1. \n",
    "# source /home2/p315561/programs/cflaminar/shell/applytransft2.sh subject number session number\n",
    "source /home2/p315561/programs/cflaminar/shell/applytransft2.sh 02 01 \n",
    "\n",
    "# Run the anatomical denoising on subject number 02 and session 02\n",
    "\n",
    "master -m 14 -s 02 -n 01 # It will automatically include the T2 weighted image in the preprocessing."
   ]
  }
 ],
 "metadata": {
  "language_info": {
   "name": "python"
  }
 },
 "nbformat": 4,
 "nbformat_minor": 2
}
