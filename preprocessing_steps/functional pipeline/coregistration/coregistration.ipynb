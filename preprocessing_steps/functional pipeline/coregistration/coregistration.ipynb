{
 "cells": [
  {
   "cell_type": "markdown",
   "metadata": {},
   "source": [
    "## Coregistration "
   ]
  },
  {
   "cell_type": "markdown",
   "metadata": {},
   "source": [
    "This script allows you to coregister the functional MRI file to the anatomical MRI file. \n"
   ]
  },
  {
   "cell_type": "markdown",
   "metadata": {},
   "source": [
    "1) Download the anatomical MRI file: {MAIN_PATH}/derivatives/coreg/sub-02/ses-01/anat/sub-02_ses-01_acq-MPRAGE_T1w.nii.gz in your local computer \n",
    "\n",
    "2) Download the bold mean image MRI file: {MAIN_PATH}/derivatives/coreg/sub-02/ses-02/func/sub-02_ses-02_task-RET_run-1_boldref.nii.gz in your local computer \n",
    "\n",
    "3) Download in your local computer ITK-Snap to perform visually-guided manual alignment."
   ]
  },
  {
   "cell_type": "markdown",
   "metadata": {},
   "source": [
    "### Step-by-Step Guide to Manual Coregistration in ITK-SNAP\n",
    "\n",
    "Manual coregistration in **ITK-SNAP** involves aligning two or more medical images so that they overlap accurately in the same spatial frame. ITK-SNAP is primarily used for segmentation, but it also allows you to perform simple coregistration tasks. Below are step-by-step instructions for manual coregistration in ITK-SNAP:\n",
    "\n",
    "##### Step 1: Install and Open ITK-SNAP. \n",
    "1) ITK-SNAP from the [official website](http://www.itksnap.org/pmwiki/pmwiki.php).\n",
    "\n",
    "2) Launch the software once installed.\n",
    "\n",
    "##### Step 2: Load the Reference Image\n",
    "1) Open ITK-SNAP and on the main screen, choose \"File\" > \"Open Main Image\".\n",
    "\n",
    "This will be the image you want to align your other image(s) to, also called the fixed image. \n",
    "\n",
    "2) Select the file and click \"Open\".\n",
    "\n",
    "3) Confirm the image type (e.g., T1-weighted, T2-weighted) if needed and click \"Next\".\n",
    "\n",
    "4) The image will now appear in the 3D viewer.\n",
    "\n",
    "##### Step 3: Load the Load the Moving Image\n",
    "\n",
    "1) Go to \"File\" > \"Add/Replace Label Image and select the second image (moving image). \n",
    "\n",
    "If the image is not a label, you can load it as a secondary image. To do this, click on \"File\" > \"Add Second Image\".\n",
    "\n",
    "2) Open the image. \n",
    "\n",
    "3) This image will overlay with the main image, and both can be viewed in the viewer panel.\n",
    "\n",
    "##### Step 4: Initial Alignment Using Sliders\n",
    "1) With both images loaded, you can now manually adjust their alignment.\n",
    "   \n",
    "2) Go to the toolbar and select the \"Transform Image\" tool. This allows you to move the images relative to one another.\n",
    "\n",
    "3) Use the sliders to adjust:\n",
    "   - Translation: Move the image in the X, Y, or Z axis.\n",
    "   - Rotation: Rotate the image along any axis.\n",
    "   - Scaling: Change the scale if necessary, though most medical images already have compatible dimensions.\n",
    "\n",
    "4) Visually align the images using these adjustments. ITK-SNAP provides three orthogonal views (sagittal, coronal, axial), allowing you to see how well the images align in each plane.\n",
    "\n",
    "##### Step 5: Fine-Tuning the Alignment\n",
    "1) Zoom in on regions of interest, such as anatomical landmarks or key features, and fine-tune the alignment by continuing to adjust translation, rotation, and scaling.\n",
    "\n",
    "2) Use the overlay view options located in the Display Controls to control how the fixed and moving images are displayed. You can switch between:\n",
    "   - Overlay: Display the moving image over the fixed image.\n",
    "   - Flicker: Quickly alternate between the images for comparison.\n",
    "\n",
    "3) The opacity slider is helpful for controlling the transparency of the moving image over the fixed image.\n",
    "\n",
    "##### Step 6: Save the Transformation\n",
    "1. Once you have aligned the images to your satisfaction, you can save the transformation.\n",
    "\n",
    "2. ITK-SNAP itself does not directly save the transformed image. However, you can export the transformation matrix to apply it later in another tool  or use it for further image processing steps.\n",
    "\n",
    "3) To save the transformation matrix, go to \"File\" > \"Save Transformation\". This will allow you to save a transformation matrix that can be applied to the moving image in an external software. Save the matrix as init_coreg.txt"
   ]
  },
  {
   "cell_type": "markdown",
   "metadata": {},
   "source": [
    "### Apply the coregistration \n",
    "\n",
    "1) Upload the transformation matrix in this directory : {MAIN_PATH}/derivatives/coreg/sub-02/ses-02/func/init_coreg.txt"
   ]
  },
  {
   "cell_type": "code",
   "execution_count": null,
   "metadata": {},
   "outputs": [],
   "source": [
    "# Apply the transformation to all the functional MRI images present for subject 02 in session 02 and task RET with 4 runs \n",
    "# source /home2/p315561/programs/cflaminar/shell/job_applyTransforms.sh {subject number} {session number} {task name} {number of runs}\n",
    "\n",
    "source /home2/p315561/programs/cflaminar/shell/job_applyTransforms.sh 38 02 RET 4"
   ]
  },
  {
   "cell_type": "markdown",
   "metadata": {},
   "source": [
    "The input directory: {MAIN_PATH}/derivatives/coreg/sub-02/ses-01/anat/sub-02_ses-01_acq-MPRAGE_T1w.nii.gz and {MAIN_PATH}/derivatives/coreg/sub-02/ses-02/func/init_coreg.txt in your local computer \n",
    "\n",
    "The output directory: {MAIN_PATH}/sub-02/ses-02/func/sub-02_ses-02_task-RET_run-1_bold.nii.gz (for each run)"
   ]
  }
 ],
 "metadata": {
  "language_info": {
   "name": "python"
  }
 },
 "nbformat": 4,
 "nbformat_minor": 2
}
