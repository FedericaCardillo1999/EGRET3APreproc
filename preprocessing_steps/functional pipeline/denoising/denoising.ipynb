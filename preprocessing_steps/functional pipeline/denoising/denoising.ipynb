{
 "cells": [
  {
   "cell_type": "markdown",
   "metadata": {},
   "source": [
    "## Denoising "
   ]
  },
  {
   "cell_type": "markdown",
   "metadata": {},
   "source": [
    "Run NORDIC denoising on whole-brain functional data. \n",
    "\n",
    "If NORDIC is being run, we'll copy the 'func'-folder as 'no_nordic' folder to denote that not preprocessing has taken place, while keeping the data close. The NORDIC'ed\n",
    "data will be placed in 'func', without any special tags to avoid that fMRIPrep gets confused.\n",
    "\n",
    "The input directory: {MAIN_PATH}/sub-02/ses-02/func/sub-02_ses-02_task-RET_run-1_bold.nii.gz (for each run)\n",
    "\n",
    "The output directory: {MAIN_PATH}/sub-02/ses-02/func/sub-02_ses-02_task-RET_run-1_bold.nii.gz (for each run)"
   ]
  },
  {
   "cell_type": "code",
   "execution_count": null,
   "metadata": {},
   "outputs": [],
   "source": [
    "# Run the functional denoising on subject number 02 and session 02\n",
    "\n",
    "master -m 10 -s 02 -n 01 "
   ]
  }
 ],
 "metadata": {
  "language_info": {
   "name": "python"
  }
 },
 "nbformat": 4,
 "nbformat_minor": 2
}
