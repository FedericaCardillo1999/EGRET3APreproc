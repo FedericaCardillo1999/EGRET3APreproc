{
 "cells": [
  {
   "cell_type": "markdown",
   "metadata": {},
   "source": [
    "### Filtering the Data"
   ]
  },
  {
   "cell_type": "markdown",
   "metadata": {},
   "source": [
    "Filtering with fMRI data, refers to applying mathematical operations to remove certain frequencies or unwanted components from a signal. \n",
    "\n",
    "The main goal of filtering is to clean the data by reducing noise or extracting specific information based on the frequency characteristics of the signal. Different types of filters are used depending on the goal of the analysis, such as removing low-frequency drifts or isolating signals within a specific frequency band.\n",
    "\n",
    "In the provided code, a high-pass filter is applied after detrending. Here's how it's done:\n",
    "\n",
    "1) Detrending: the code removes any linear trend from the fMRI time series. This helps correct for slow, global changes in the signal, like scanner drifts, without removing the overall mean signal.\n",
    "\n",
    "2) High-Pass Filtering:\n",
    "   The filter is set to a lowcut frequency of 0.001 Hz, meaning that any signal with a frequency below 0.001 Hz will be removed. This is meant to filter out very slow fluctuations or drifts in the data.\n",
    "   - A Butterworth filter is applied using the scipy.signal.butter and scipy.signal.sosfiltfilt functions to implement the high-pass filter.\n",
    "     - butter(8, [f_low], 'highpass'): This creates an 8th-order Butterworth high-pass filter. The higher the order, the steeper the cut-off around the defined low frequency, ensuring that most of the low-frequency noise is removed.\n"
   ]
  },
  {
   "cell_type": "markdown",
   "metadata": {},
   "source": [
    "This Python script processes fMRI data that has been projected onto the cortical surface of the brain (resampled) and \n",
    "\n",
    "1) Loads Left and Right Hemisphere Data.\n",
    "\n",
    "2) Combines the data from both hemispheres into a single dataset.\n",
    "\n",
    "3) It converts the raw fMRI signal into percent signal change to normalize the data across runs and subjects.\n",
    "\n",
    "4) It removes baseline signal fluctuations by subtracting the median of the initial time points.\n",
    "\n",
    "5) It optionally detrends and high-pass filters the data to remove low-frequency noise and drifts.\n",
    "\n",
    "6) It aggregates the processed data across multiple runs by computing the median.\n",
    "\n",
    "7) It saves the final processed data as a NumPy array for further analysis."
   ]
  },
  {
   "cell_type": "code",
   "execution_count": null,
   "metadata": {},
   "outputs": [],
   "source": [
    "The input directory: {MAIN_PATH}/resampling/sub-02/ses-02/sub-02_Ses-02_task-RET_run-1_bold.nii.gz (for each run)\n",
    "\n",
    "The output directory: {MAIN_PATH}/pRFM/sub-02/ses-02/nordic or /nordic_sm4/sub-02_ses-02_task-RET_hemi-LR_desc-avg_bold_GM.npy"
   ]
  },
  {
   "cell_type": "code",
   "execution_count": null,
   "metadata": {},
   "outputs": [],
   "source": [
    "# Filter the data for subject 02 session 02 \n",
    "# python /home2/p315561/programs/cflaminar/pRF_fitting/psc_GM.py {subject number} {session number} {task name} {number of runs} {denoising}\n",
    "\n",
    "# Without smoothing\n",
    "python /home2/p315561/programs/cflaminar/pRF_fitting/psc_GM.py 02 02 RET 4 nordic \n",
    "# With smoothing\n",
    "python /home2/p315561/programs/cflaminar/pRF_fitting/psc_GM.py 02 02 RET 4 nordic_sm4"
   ]
  }
 ],
 "metadata": {
  "language_info": {
   "name": "python"
  }
 },
 "nbformat": 4,
 "nbformat_minor": 2
}
