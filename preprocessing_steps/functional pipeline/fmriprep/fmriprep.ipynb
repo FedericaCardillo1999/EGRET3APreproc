{
 "cells": [
  {
   "cell_type": "markdown",
   "metadata": {},
   "source": [
    "### fMRIprep"
   ]
  },
  {
   "cell_type": "markdown",
   "metadata": {},
   "source": [
    "fMRIPrep is a robust and standardized pipeline for preprocessing functional magnetic resonance imaging (fMRI) data. It aims to provide high-quality, reproducible results by combining various tools from the neuroimaging software ecosystem (like FSL, ANTs, FreeSurfer, etc.) and adhering to best practices in fMRI data processing. \n",
    "\n",
    "To obtain more information regarding the pipeline and how to interpret the .html report please follow the instruction on th\n",
    "fMRIprep official page: https://fmriprep.org/en/stable/ , https://fmriprep.org/en/stable/outputs.html .\n",
    "\n",
    "1) Anatomical Preprocessing. \n",
    "\n",
    "   fMRIPrep starts with preprocessing the anatomical (T1-weighted) images, which provides a reference for aligning the functional data.\n",
    "   Skull-stripping: Removes non-brain tissues from the T1-weighted anatomical image.\n",
    "\n",
    "   Bias field correction: Corrects for intensity inhomogeneities in the anatomical image.\n",
    "\n",
    "   Spatial normalization: The brain is aligned to a standard space (usually MNI152) using non-linear registration techniques (ANTs).\n",
    "\n",
    "   Segmentation: The T1-weighted image is segmented into different tissue classes, such as gray matter, white matter, and cerebrospinal fluid (CSF).\n",
    "\n",
    "   Surface reconstruction (optional): FreeSurfer is used to generate cortical surface reconstructions if requested. This includes the generation of white and pial surfaces.\n",
    "\n",
    "2) Functional Preprocessing\n",
    "\n",
    "   Slice-timing correction: Accounts for the fact that different slices in the fMRI volumes are acquired at slightly different times.\n",
    "\n",
    "   Motion correction: Corrects for participant head movement across the fMRI acquisition, using motion parameters (rigid-body transformations).\n",
    "\n",
    "   Fieldmap-based distortion correction (optional): If fieldmaps are available, they can be used to correct for spatial distortions caused by magnetic field inhomogeneities.\n",
    "\n",
    "   Co-registration to T1-weighted image: Aligns the functional (fMRI) data to the preprocessed anatomical data using a rigid-body transformation.\n",
    "\n",
    "   Normalization to standard space: The functional data is aligned to the MNI space, leveraging the normalization from the anatomical processing stage.\n",
    "\n",
    "   Resampling: The functional data can be resampled to different resolutions (e.g., to match the MNI template) based on user specifications.\n",
    "\n",
    "3) Confound Estimation\n",
    "\n",
    "   fMRIPrep extracts various confounds from the data to later be used in statistical models or denoising steps.\n",
    "\n",
    "   Motion parameters: Translations and rotations estimated during motion correction.\n",
    "\n",
    "   Anatomical confounds: Signal from white matter, CSF, and global signal are extracted based on tissue segmentation.\n",
    "\n",
    "   CompCor: Principal components are extracted from noise regions (e.g., CSF, white matter) to capture physiological noise.\n",
    "   \n",
    "   Framewise displacement: Calculates a composite measure of head motion to detect excessive movement in specific volumes."
   ]
  },
  {
   "cell_type": "markdown",
   "metadata": {},
   "source": [
    "The input directory: {MAIN_PATH}/sub-02/anat and /func\n",
    "\n",
    "The output directory: {MAIN_PATH}/derivatives/fmriprep/sub-02"
   ]
  },
  {
   "cell_type": "code",
   "execution_count": null,
   "metadata": {},
   "outputs": [],
   "source": [
    "# Preprocessing fMRIprep pipeline on subject 02 for session 01 and 02.\n",
    "\n",
    "master -m 15 -s 02 -n 01 --ow  # Only on anatomical data\n",
    "master -m 15 -s 02 -n 01 --func --ow  # Also on functional data\n",
    "master -m 15 -s 02 -n 02 --func --ow  # Also on functional data"
   ]
  },
  {
   "cell_type": "markdown",
   "metadata": {},
   "source": [
    "### Importing the fMRIprep results to procude a 3D visualization of the brain"
   ]
  },
  {
   "cell_type": "markdown",
   "metadata": {},
   "source": [
    "This code processes fMRI data by using the pycortex package and outputs it for further analysis and visualization.\n",
    "\n",
    "Pycortex is a Python library designed for visualizing and interacting with fMRI data, particularly in the context of surface-based analysis. It enables researchers to project functional data onto the cortical surface of the brain and provides tools for web-based visualization of these projections. The library is used in conjunction with FreeSurfer, a software suite that generates surface-based anatomical models of the brain, and fMRIPrep, a tool that preprocesses fMRI data.\n",
    "\n",
    "By running the import_fmriprep script, the code will perfrom: \n",
    "\n",
    "1) File Handling: copying and renaming anatomical and surface files from fMRIPrep output.\n",
    "\n",
    "2) Pycortex and FreeSurfer Integration: importing the preprocessed data and FreeSurfer surfaces into the pycortex database.\n",
    "\n",
    "3) Optional Visualization: code provides optional steps for visualizing anatomical data that you can use on your local computer, not on the habrok cluster. \n",
    "\n",
    "4) Surface File Management: ensures surface data is properly structured for visualization.\n"
   ]
  },
  {
   "cell_type": "markdown",
   "metadata": {},
   "source": [
    "The input directory: {MAIN_PATH}/derivatives/fmriprep/sub-02 and {MAIN_PATH}/derivatives/freesurfer/sub-02\n",
    "\n",
    "The output directory: {MAIN_PATH}/derivatives/pycortex/sub-02"
   ]
  },
  {
   "cell_type": "code",
   "execution_count": null,
   "metadata": {},
   "outputs": [],
   "source": [
    "# Import the fMRIprep data and create the 3D visualization for subject 02\n",
    "# python /home2/p315561/programs/cflaminar/pRF_fitting/import_fmriprepsubj.py {subject number}\n",
    "\n",
    "python /home2/p315561/programs/cflaminar/pRF_fitting/import_fmriprepsubj.py 02"
   ]
  }
 ],
 "metadata": {
  "language_info": {
   "name": "python"
  }
 },
 "nbformat": 4,
 "nbformat_minor": 2
}
