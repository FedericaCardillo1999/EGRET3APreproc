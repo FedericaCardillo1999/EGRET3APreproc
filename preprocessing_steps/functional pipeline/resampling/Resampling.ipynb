{
 "cells": [
  {
   "cell_type": "markdown",
   "metadata": {},
   "source": [
    "### Resampling"
   ]
  },
  {
   "cell_type": "markdown",
   "metadata": {},
   "source": [
    "This script performs resampling for fMRI data. Resampling refers to the process of transforming data from one space (a 3D volumetric space) to another space (a 2D cortical surface) by interpolating the data at various points on the surface. Resampling allows for Surface-based analysis, to provide a better spatial localization compared to 3D voxel space,  and Data smoothing, to reduce noise or improve signal detection. \n",
    "\n",
    "This script transform the fMRI volumes into surface representations of the brain (left hemisphere lh and right hemisphere rh) by using FreeSurfer's mri_vol2surf which maps 3D volumetric fMRI data onto the cortical surface. \n",
    "\n",
    "1) Loops over denoising conditions, hemispheres, and runs\n",
    "\n",
    "2) Resampling with mri_vol2surf\n",
    "    --src: Specifies the input fMRI volume (*.nii.gz).\n",
    "\n",
    "    --out: Specifies the output surface file in GIFTI format (*.gii).\n",
    "\n",
    "    --hemi: Specifies the hemisphere (lh or rh).\n",
    "    \n",
    "    --projfrac-avg: Projects the volume data at a specific depth within the gray matter. Here, it's averaging data from 0.1mm below the cortical surface to depth=1.0.\n",
    "    \n",
    "    --surf-fwhm: Applies smoothing on the surface, with 0mm for nordic and 4mm for nordic_sm4.\n",
    "    \n",
    "    --interp \"trilinear\": Trilinear interpolation is used for mapping the volume to the surface.\n",
    "    \n",
    "    --regheader: Registers the volume to the surface using the subject's FreeSurfer anatomical data."
   ]
  },
  {
   "cell_type": "markdown",
   "metadata": {},
   "source": [
    "The input directory: {MAIN_PATH}/derivatives/fmriprep/sub-02/ses-02/func\n",
    "\n",
    "The output directory: {MAIN_PATH}/derivatives/resampled/sub-02/ses-02/nordic or /nordic_sm4"
   ]
  },
  {
   "cell_type": "code",
   "execution_count": null,
   "metadata": {},
   "outputs": [],
   "source": [
    "# Resample the surface for subject 02 session 02\n",
    "# source /home2/p315561/programs/cflaminar/shell/job_resamplingGM.sh {subject number} {session number} {task name} {number of runs}\n",
    "\n",
    "source /home2/p315561/programs/cflaminar/shell/job_resamplingGM.sh 02 02 RET 4"
   ]
  }
 ],
 "metadata": {
  "language_info": {
   "name": "python"
  }
 },
 "nbformat": 4,
 "nbformat_minor": 2
}
