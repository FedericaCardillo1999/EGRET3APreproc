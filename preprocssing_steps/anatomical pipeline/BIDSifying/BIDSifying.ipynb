{
 "cells": [
  {
   "cell_type": "markdown",
   "metadata": {},
   "source": [
    "## BIDSifying"
   ]
  },
  {
   "cell_type": "markdown",
   "metadata": {},
   "source": [
    "This will help convert your raw (f)MRI data to the \"Brain Imaging Data Structuce\" (BIDS) format. \n",
    "\n",
    "Using only a simple (json or yaml) config-file, it renames, reformats, and restructures your files such that it fits the BIDS naming scheme and conforms to file-formats specified by BIDS.\n",
    "\n",
    "For more information regarding installing this repository follow the instruction from the Github page: \n",
    "https://github.com/NILAB-UvA/bidsify"
   ]
  },
  {
   "cell_type": "code",
   "execution_count": null,
   "metadata": {},
   "outputs": [],
   "source": [
    "# To run the code \n",
    "\n",
    "# 1) Modify the config.yml file\n",
    "# 2) Run the bidsify.py\n",
    "\n",
    "python bidsify.py"
   ]
  }
 ],
 "metadata": {
  "language_info": {
   "name": "python"
  }
 },
 "nbformat": 4,
 "nbformat_minor": 2
}
