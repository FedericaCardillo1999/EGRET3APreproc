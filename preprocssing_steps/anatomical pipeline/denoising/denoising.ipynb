{
 "cells": [
  {
   "cell_type": "markdown",
   "metadata": {},
   "source": [
    "## Denoising"
   ]
  },
  {
   "cell_type": "markdown",
   "metadata": {},
   "source": [
    "This script runs a SANLM-Filter over the image as well as Bias Field Correction with SPM.  \n",
    "\n",
    "The output directory: {MAIN_PATH}/derivatives/denoised/sub-02/ses-01/sub-02_ses-01_acq-MPRAGE_T1w.nii.gz\n",
    "\n",
    "The input directory: {MAIN_PATH}/sub-02/ses-01/anat/sub-02_ses-01_acq-MPRAGE_T1w.nii.gz"
   ]
  },
  {
   "cell_type": "code",
   "execution_count": null,
   "metadata": {},
   "outputs": [],
   "source": [
    "# Run the anatomical denoising on subject number 02 and session 02\n",
    "\n",
    "master -m 08 -s 02 -n 01 "
   ]
  }
 ],
 "metadata": {
  "language_info": {
   "name": "python"
  }
 },
 "nbformat": 4,
 "nbformat_minor": 2
}
