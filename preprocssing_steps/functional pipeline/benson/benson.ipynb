{
 "cells": [
  {
   "cell_type": "markdown",
   "metadata": {},
   "source": [
    "### Benson Atlas"
   ]
  },
  {
   "cell_type": "markdown",
   "metadata": {},
   "source": [
    "This script applies the Benson Atlas to the visual cortex.\n",
    "The Benson Atlas is a brain map that helps to identify specific regions of the human visual cortex, which processes visual information.\n",
    "\n",
    "This atlas is a probabilistic map based on retinotopic organization — the way visual space is represented on the cortex and it helps neuroscientists and researchers identify \n",
    "the functional areas of the brain related to vision, such as V1 (primary visual cortex), V2, and V3, based on standard anatomical brain scans.\n"
   ]
  },
  {
   "cell_type": "markdown",
   "metadata": {},
   "source": [
    "The input directory: {MAIN_PATH}/derivatives/freesurfer/sub-02\n",
    "\n",
    "The output directory: \n",
    "\n",
    "1) A Benson Mask to define the voxels within the altas and outside the atlas: \n",
    "{MAIN_PATH}/derivatives/benson_mask/sub-02/ses-02/sub-02_ses-1_desc-benson_mask.nii.gz\n",
    "\n",
    "2) A Polar Angle map to describe the population of neurons polar angle per hemisphere: \n",
    "{MAIN_PATH}/derivatives/freesurfer/sub-02/surf/lh.benson14_angle.mgz and rh.benson14_angle.mgz\n",
    "\n",
    "3) A Eccentricity map to describe the population of neurons eccentricity per hemisphere: \n",
    "{MAIN_PATH}/derivatives/freesurfer/sub-02/surf/lh.benson14_eccen.mgz and rh.benson14_eccen.mgz\n",
    "\n",
    "4) A Visual Areas map to describe the visual areas location per hemisphere: \n",
    "{MAIN_PATH}/derivatives/freesurfer/sub-02/surf/lh.benson14_varea.mgz and rh.benson14_varea.mgz\n",
    "\n",
    "5) A Size map to describe the population of neurons size per hemisphere: \n",
    "{MAIN_PATH}/derivatives/freesurfer/sub-02/surf/lh.benson14_sigma.mgz and rh.benson14_sigma.mgz\n",
    "\n",
    "For each of the 2), 3), 4), 5) files there are corresponding labels in the {MAIN_PATH}/derivatives/freesurfer/sub-02/labels directory \n",
    "storing the voxel number, x, y, and z MNI coordinates of the voxel, and the corresponding visual area. "
   ]
  },
  {
   "cell_type": "code",
   "execution_count": null,
   "metadata": {},
   "outputs": [],
   "source": [
    "# Apply the Benson Atlas for subject 02\n",
    "# source /home2/p315561/programs/cflaminar/shell/jobCFLup01_project_benson_ores.sh {subject number}\n",
    "\n",
    "source /home2/p315561/programs/cflaminar/shell/jobCFLup01_project_benson_ores.sh 02"
   ]
  }
 ],
 "metadata": {
  "language_info": {
   "name": "python"
  }
 },
 "nbformat": 4,
 "nbformat_minor": 2
}
