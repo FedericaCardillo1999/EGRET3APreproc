{
 "cells": [
  {
   "cell_type": "markdown",
   "metadata": {},
   "source": [
    "## Motion Correction "
   ]
  },
  {
   "cell_type": "markdown",
   "metadata": {},
   "source": [
    "Motion correction** in SPM (Statistical Parametric Mapping) is performed on functional MRI (fMRI) to adjust for small head movements or patient motion that occur during scanning. \n",
    "\n",
    "Even very small movements (e.g., less than a millimeter) can introduce significant noise and artifacts in the data, reducing the accuracy of subsequent analyses. \n",
    "\n",
    "Motion correction, also known as realignment, ensures that the images from different time points in the sequence are spatially aligned to one another.\n",
    "\n",
    "1) SPM selects one of the images in the time series as the reference image typically the first or the mean or boldref image. \n",
    "The other images in the series are then aligned to this reference. \n",
    "\n",
    "2) Rigid Body Transformation\n",
    "   Motion correction in SPM assumes that the only movement occurring is rigid (no changes in size or shape of the brain, just translations and rotations). The correction uses a rigid body transformation, which adjusts for:\n",
    "     Translations: Movements along the three axes (X, Y, Z), which means shifting the head forward/backward, left/right, or up/down.\n",
    "     Rotations: Rotations around the three axes (pitch, roll, yaw). For example, nodding the head (pitch), tilting the head sideways (roll), or turning it left or right (yaw).\n",
    "\n",
    "3) Minimization of Difference Between Images\n",
    "   SPM employs an optimization algorithm to calculate how much each image needs to be shifted or rotated in order to minimize the difference between it and the reference image.\n",
    "\n",
    "4) Re-slicing\n",
    "   After calculating the necessary translations and rotations, SPM applies these corrections to each image. \n",
    "   This is done by re-slicing the images, meaning that the images are resampled to align with the reference image. Reslicing involves interpolation (usually **trilinear interpolation**) to estimate the values of voxels in the corrected positions.\n",
    "   This step creates a new, motion-corrected dataset.\n",
    "\n",
    "6) Saving the Realigned Data\n",
    "   Once motion correction is applied, SPM saves the corrected images in a new set of files. "
   ]
  },
  {
   "cell_type": "markdown",
   "metadata": {},
   "source": [
    "The input directory: {MAIN_PATH}/sub-02/ses-02/func\n",
    "\n",
    "The output directory: {MAIN_PATH}/derivatives/coreg/sub-02/ses-02/func. "
   ]
  },
  {
   "cell_type": "code",
   "execution_count": null,
   "metadata": {},
   "outputs": [],
   "source": [
    "# Run motion correction for subject 02 in session 02\n",
    "# source /home2/p315561/programs/cflaminar/shell/job_spmmoco_hb.sh {subject number} {task name} {session number} {task runs}\n",
    "\n",
    "source /home2/p315561/programs/cflaminar/shell/job_spmmoco_hb.sh 02 RET 02 4"
   ]
  }
 ],
 "metadata": {
  "language_info": {
   "name": "python"
  }
 },
 "nbformat": 4,
 "nbformat_minor": 2
}
